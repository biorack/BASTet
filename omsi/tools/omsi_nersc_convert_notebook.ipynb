{
 "cells": [
  {
   "cell_type": "markdown",
   "metadata": {},
   "source": [
    "# Import Raw File to OpenMSI"
   ]
  },
  {
   "cell_type": "markdown",
   "metadata": {},
   "source": [
    "## Basic notebook code"
   ]
  },
  {
   "cell_type": "code",
   "execution_count": null,
   "metadata": {},
   "outputs": [],
   "source": [
    "import sys\n",
    "import os \n",
    "import ipywidgets as widgets\n",
    "from IPython.display import display\n",
    "import getpass\n",
    "\n",
    "# Import main BASTet convert tool \n",
    "try:\n",
    "    from omsi.tools.convertToOMSI import main as convert_omsi\n",
    "except ImportError:\n",
    "    sys.path.append(\"/project/projectdirs/openmsi/omsi_processing_status/bastet\")\n",
    "    from omsi.tools.convertToOMSI import main as convert_omsi\n",
    "    print \"We recommend using the OpenMSI Jupyter Python Kernel\"\n",
    "    print \"To install the OpenMSI kernel copy the following text to $HOME/.ipython/kernels/openmsi/kernel.json\"\n",
    "    print \"\"\n",
    "    print \"\"\"{\n",
    " \"argv\": [\n",
    "  \"/global/project/projectdirs/openmsi/jupyterhub_libs/anaconda/bin/python\",\n",
    "  \"-m\",\n",
    "  \"IPython.kernel\",\n",
    "  \"-f\",\n",
    "  \"{connection_file}\"\n",
    " ],\n",
    " \"env\": {\n",
    "    \"PATH\": \"/global/project/projectdirs/openmsi/jupyterhub_libs/anaconda/bin:/usr/local/bin:/usr/bin:/bin:/usr/sbin:/sbin\"\n",
    " },\n",
    " \"display_name\": \"OpenMSI Python 2 Test\",\n",
    " \"language\": \"python\"\n",
    "}\"\"\"\n",
    "    \n",
    "# Jupyter sets up logging so that log message are not displayed in the notebook, so we need to \n",
    "# reload the logging module in order to be able to have log messages appear in the notebook\n",
    "import logging\n",
    "reload(logging)\n",
    "from omsi.shared.log import log_helper\n",
    "log_helper.setup_logging()\n",
    "log_helper.set_log_level('DEBUG')"
   ]
  },
  {
   "cell_type": "code",
   "execution_count": null,
   "metadata": {},
   "outputs": [],
   "source": [
    "#####################################\n",
    "# Basic settings    \n",
    "#####################################\n",
    "username = getpass.getuser()\n",
    "omsi_original_data = os.path.join(\"/project/projectdirs/openmsi/original_data\", username)\n",
    "omsi_private_data = os.path.join(\"/project/projectdirs/openmsi/omsi_data_private\", username)"
   ]
  },
  {
   "cell_type": "code",
   "execution_count": null,
   "metadata": {},
   "outputs": [],
   "source": [
    "#####################################\n",
    "# Create the main UI   \n",
    "#####################################\n",
    "ui_elements_main = []\n",
    "ui_checkoptions = []\n",
    "# Select a file\n",
    "fileselect_widget = widgets.Select(\n",
    "    options=os.listdir(omsi_original_data),\n",
    "    description='Input file:',\n",
    "    disabled=False\n",
    ")\n",
    "ui_elements_main.append(fileselect_widget)\n",
    "# Add to OpenMSI\n",
    "addomsi_widget = widgets.Checkbox(\n",
    "    value=True,\n",
    "    description='Add to OpenMSI',\n",
    "    disabled=False\n",
    ")\n",
    "ui_checkoptions .append(addomsi_widget)\n",
    "# Global peak detection\n",
    "fpg_widget = widgets.Checkbox(\n",
    "    value=False,\n",
    "    description='Find Peaks (Global)',\n",
    "    disabled=False\n",
    ")\n",
    "ui_checkoptions .append(fpg_widget)\n",
    "# Local peak detection\n",
    "fpl_widget = widgets.Checkbox(\n",
    "    value=False,\n",
    "    description='Find Peaks (Local)',\n",
    "    disabled=False\n",
    ")\n",
    "ui_checkoptions .append(fpl_widget)\n",
    "# Local peak detection\n",
    "nmf_widget = widgets.Checkbox(\n",
    "    value=False,\n",
    "    description='NMF',\n",
    "    disabled=False\n",
    ")\n",
    "ui_checkoptions .append(nmf_widget)\n",
    "# Local peak detection\n",
    "tic_widget = widgets.Checkbox(\n",
    "    value=False,\n",
    "    description='TIC Normalize',\n",
    "    disabled=False\n",
    ")\n",
    "ui_checkoptions .append(tic_widget)\n",
    "# EMail notification\n",
    "email_widget = widgets.Checkbox(\n",
    "    value=False,\n",
    "    description='EMail Notification',\n",
    "    disabled=False\n",
    ")\n",
    "email_text_widget = widgets.Text(\n",
    "    value=username+\"@lbl.gov\",\n",
    "    description='Email:',\n",
    "    disabled=False\n",
    ")\n",
    "ui_checkoptions.append(widgets.HBox([email_widget, email_text_widget]))\n",
    "\n",
    "#ui_checkoptions .append(email_widget)\n",
    "ui_elements_main.append(widgets.VBox(ui_checkoptions))\n",
    "main_ui = widgets.HBox(ui_elements_main)"
   ]
  },
  {
   "cell_type": "code",
   "execution_count": null,
   "metadata": {},
   "outputs": [],
   "source": [
    "def create_convert_settings():\n",
    "    settings = ['convertToOMSI.py', \n",
    "            '--no-xdmf',\n",
    "            '--user', username,\n",
    "            '--regions', 'merge',\n",
    "            '--db-server', 'https://openmsi.nersc.gov/openmsi/',\n",
    "            '--compression',\n",
    "            '--thumbnail',\n",
    "            '--auto-chunking',\n",
    "            '--error-handling', 'terminate-and-cleanup',\n",
    "           ]\n",
    "    if addomsi_widget.value:\n",
    "        settings.append('--add-to-db')\n",
    "    else:\n",
    "        settings.append('--no-add-to-db')\n",
    "    if fpl_widget.value:\n",
    "        settings.append('--fpl')\n",
    "    else:\n",
    "        settings.append('--no-fpl')\n",
    "    if fpg_widget.value:\n",
    "        settings.append('--fpg')\n",
    "    else:\n",
    "        settings.append('--no-fpg')\n",
    "    if tic_widget.value:\n",
    "        settings.append('--ticnorm')\n",
    "    else:\n",
    "        settings.append('--no-ticnorm')\n",
    "    if nmf_widget.value:\n",
    "        settings.append('--nmf')\n",
    "    else:\n",
    "        settings.append('--no-nmf')\n",
    "    if email_widget.value:\n",
    "        settings.append('--email')\n",
    "        settings.append('oruebel@lbl.gov'),\n",
    "        settings.append('bpbowen@lbl.gov'),\n",
    "        settings.append('email_text_widget.value')\n",
    "    settings.append(os.path.join(omsi_original_data, fileselect_widget.value))\n",
    "    settings.append(os.path.join(omsi_private_data, fileselect_widget.value) + '.h5')\n",
    "    return settings"
   ]
  },
  {
   "cell_type": "markdown",
   "metadata": {},
   "source": [
    "## Define and execute the conversion"
   ]
  },
  {
   "cell_type": "code",
   "execution_count": null,
   "metadata": {},
   "outputs": [],
   "source": [
    "display(main_ui)"
   ]
  },
  {
   "cell_type": "code",
   "execution_count": null,
   "metadata": {},
   "outputs": [],
   "source": [
    "settings=create_convert_settings()\n",
    "convert_omsi(argv=settings)"
   ]
  },
  {
   "cell_type": "code",
   "execution_count": null,
   "metadata": {},
   "outputs": [],
   "source": [
    ""
   ]
  }
 ],
 "metadata": {
  "kernelspec": {
   "display_name": "OpenMSI Python 2",
   "language": "python",
   "name": "openmsi"
  },
  "language_info": {
   "codemirror_mode": {
    "name": "ipython",
    "version": 2.0
   },
   "file_extension": ".py",
   "mimetype": "text/x-python",
   "name": "python",
   "nbconvert_exporter": "python",
   "pygments_lexer": "ipython2",
   "version": "2.7.11"
  }
 },
 "nbformat": 4,
 "nbformat_minor": 0
}