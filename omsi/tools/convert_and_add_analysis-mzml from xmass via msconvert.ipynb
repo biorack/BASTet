{
 "cells": [
  {
   "cell_type": "code",
   "execution_count": null,
   "metadata": {
    "collapsed": false,
    "scrolled": false
   },
   "outputs": [
    {
     "name": "stdout",
     "output_type": "stream",
     "text": [
      "MPI not available. Running in serial.\n"
     ]
    },
    {
     "name": "stderr",
     "output_type": "stream",
     "text": [
      "2017-07-13 17:30:57,216 - omsi.tools.convertToOMSI - INFO - Disable xdmf\n",
      "2017-07-13 17:30:57,217 - omsi.tools.convertToOMSI - INFO - Set user to: bpb\n",
      "2017-07-13 17:30:57,218 - omsi.tools.convertToOMSI - INFO - Set db server to: https://openmsi.nersc.gov/openmsi/\n",
      "2017-07-13 17:30:57,219 - omsi.tools.convertToOMSI - INFO - Enable compression\n",
      "2017-07-13 17:30:57,220 - omsi.tools.convertToOMSI - INFO - Enable thumbnail\n",
      "2017-07-13 17:30:57,220 - omsi.tools.convertToOMSI - INFO - Disable find peaks local\n",
      "2017-07-13 17:30:57,221 - omsi.tools.convertToOMSI - INFO - Disable find peaks global\n",
      "2017-07-13 17:30:57,222 - omsi.tools.convertToOMSI - INFO - Disable tic normalization\n",
      "2017-07-13 17:30:57,223 - omsi.tools.convertToOMSI - INFO - Disable NMF\n",
      "2017-07-13 17:30:57,223 - omsi.tools.convertToOMSI - INFO - Execute global peak finding (fpg): False\n",
      "2017-07-13 17:30:57,224 - omsi.tools.convertToOMSI - INFO - Execute local peak finding (fpl): False\n",
      "2017-07-13 17:30:57,225 - omsi.tools.convertToOMSI - INFO - Execute nmf: False\n",
      "2017-07-13 17:30:57,226 - omsi.tools.convertToOMSI - INFO - Number of MSI files: 1\n",
      "2017-07-13 17:30:57,226 - omsi.tools.convertToOMSI - INFO - Output OMSI file: /project/projectdirs/openmsi/omsi_data_private/bpb/20170711_Tong_PZN-I34-1_mzML.h5\n",
      "2017-07-13 17:31:11,557 - omsi.dataformat.xmassmzml_file - INFO - Read 1174 scans from mzML file.\n",
      "2017-07-13 17:31:11,558 - omsi.dataformat.xmassmzml_file - DEBUG - Compute coordinates\n",
      "2017-07-13 17:31:13,315 - omsi.dataformat.xmassmzml_file - DEBUG - Compute mz axes\n",
      "2017-07-13 17:31:28,135 - omsi.tools.convertToOMSI - INFO - Number of conversion: 1\n",
      "2017-07-13 17:31:28,141 - omsi.tools.convertToOMSI - INFO - Converting: /project/projectdirs/openmsi/original_data/bpb/20170711_Tong_PZN-I34-1_mzML\n",
      "2017-07-13 17:31:28,142 - omsi.tools.convertToOMSI - INFO - HDF5 compression: gzip, 4\n",
      "2017-07-13 17:31:28,142 - omsi.tools.convertToOMSI - INFO - Input file format: xmassmzml_file\n",
      "2017-07-13 17:31:40,917 - omsi.dataformat.xmassmzml_file - INFO - Read 1174 scans from mzML file.\n",
      "2017-07-13 17:31:40,918 - omsi.dataformat.xmassmzml_file - DEBUG - Compute coordinates\n",
      "2017-07-13 17:31:42,378 - omsi.dataformat.xmassmzml_file - DEBUG - Compute mz axes\n",
      "2017-07-13 17:31:57,048 - omsi.tools.convertToOMSI - INFO - In data shape: (171, 720, 114108)\n",
      "2017-07-13 17:31:57,050 - omsi.tools.convertToOMSI - INFO - Converting data using the following chunking options:\n",
      "2017-07-13 17:31:57,050 - omsi.tools.convertToOMSI - INFO -      - Spectrum chunking: (1, 1, 19018)\n",
      "2017-07-13 17:31:57,051 - omsi.tools.convertToOMSI - INFO -      - Image chunking:    (86, 360, 1)\n"
     ]
    },
    {
     "name": "stdout",
     "output_type": "stream",
     "text": [
      "Spectrum selection chunking: (1, 1, 19018)\n",
      "     - Ideal for selection of full spectra.\n",
      "     - Overhead: 0.0 Byte (0 MB)\n",
      "Slice selection chunking: (86, 360, 1)\n",
      "     - Ideal for selection of full image slices.\n",
      "     - Overhead: 328631040.0 Byte (314 MB)\n",
      "Balanced chunking: (4, 4, 2048)\n",
      "     - This chunking tries to compromise between selection of slices and spectra.\n",
      "[0%]\r"
     ]
    },
    {
     "name": "stderr",
     "output_type": "stream",
     "text": [
      "2017-07-13 17:32:25,291 - omsi.tools.convertToOMSI - INFO - Generating optimized data copy: (86, 360, 1)\n",
      "2017-07-13 17:32:25,292 - omsi.tools.convertToOMSI - INFO - Spectrum-to-image I/O. Write (171, 720, 1064) blocks at a time\n"
     ]
    },
    {
     "name": "stdout",
     "output_type": "stream",
     "text": [
      "[24%]\r"
     ]
    }
   ],
   "source": [
    "import sys\n",
    "import os \n",
    "\n",
    "import ipywidgets as widgets\n",
    "from IPython.display import display\n",
    "import getpass\n",
    "\n",
    "# Import main BASTet convert tool \n",
    "# sys.path.insert(0,\"/project/projectdirs/openmsi/omsi_processing_status/bastet\")\n",
    "sys.path.insert(0,'/global/u2/b/bpb/repos/BASTet/')\n",
    "# sys.path.insert(1,'/global/project/projectdirs/metatlas/anaconda/lib/python2.7/site-packages' )\n",
    "\n",
    "from omsi.tools.convertToOMSI import main as convert_omsi\n",
    "#import convertToOMSI\n",
    "# import main \n",
    "# as convert_omsi\n",
    "# import omsi as omsi\n",
    "# Jupyter sets up logging so that log message are not displayed in the notebook, so we need to \n",
    "# reload the logging module in order to be able to have log messages appear in the notebook\n",
    "import logging\n",
    "reload(logging)\n",
    "from omsi.shared.log import log_helper\n",
    "log_helper.setup_logging()\n",
    "log_helper.set_log_level('DEBUG')\n",
    "\n",
    "# username = getpass.getuser()\n",
    "username = 'bpb'\n",
    "omsi_original_data = os.path.join(\"/project/projectdirs/openmsi/original_data\", username)\n",
    "omsi_private_data = os.path.join(\"/project/projectdirs/openmsi/omsi_data_private\", username)\n",
    "base_filename = '20170711_Tong_PZN-I34-1_mzML'\n",
    "in_filename = (os.path.join(omsi_original_data, base_filename))\n",
    "out_filename = (os.path.join(omsi_private_data, base_filename) + '.h5')\n",
    "\n",
    "settings = ['convertToOMSI.py', \n",
    "            '--no-xdmf',\n",
    "            '--user', username,\n",
    "            '--regions', 'merge',\n",
    "            '--db-server', 'https://openmsi.nersc.gov/openmsi/',\n",
    "            '--compression',\n",
    "            '--thumbnail',\n",
    "            '--auto-chunking',\n",
    "            '--error-handling', 'terminate-and-cleanup',\n",
    "            '--add-to-db',\n",
    "            '--no-fpl',\n",
    "            '--no-fpg',\n",
    "            '--no-ticnorm',\n",
    "            '--no-nmf',\n",
    "            '--format','xmassmzml_file',\n",
    "            in_filename,\n",
    "            out_filename\n",
    "           ]\n",
    "\n",
    "convert_omsi(argv=settings)"
   ]
  },
  {
   "cell_type": "code",
   "execution_count": 2,
   "metadata": {
    "collapsed": true
   },
   "outputs": [],
   "source": [
    "exit"
   ]
  },
  {
   "cell_type": "code",
   "execution_count": null,
   "metadata": {
    "collapsed": false,
    "scrolled": false
   },
   "outputs": [],
   "source": [
    "%system ls -lt /project/projectdirs/openmsi/omsi_data_private/bpb"
   ]
  },
  {
   "cell_type": "code",
   "execution_count": null,
   "metadata": {
    "collapsed": false
   },
   "outputs": [],
   "source": [
    "from pyteomics import mzml, auxiliary\n",
    "filename = '/project/projectdirs/openmsi/original_data/bpb/20170711_Tong_PZN-I34-1_mzML/20170711_Tong_PZN-I34-1.mzML'\n",
    "reader = mzml.read(filename)\n",
    "spectrum = next(mzml.read(filename))\n",
    "print sum(1 for _ in reader)\n",
    "reader.next()"
   ]
  },
  {
   "cell_type": "code",
   "execution_count": null,
   "metadata": {
    "collapsed": false
   },
   "outputs": [],
   "source": [
    "import sys\n",
    "sys.path.insert(0,'/global/u2/b/bpb/repos/BASTet/')\n",
    "from omsi.tools.convertToOMSI import main as convert_omsi\n",
    "import omsi as omsi\n",
    "omsi_base = omsi.dataformat.file_reader_base\n",
    "omsi_base.file_reader_base.available_formats()"
   ]
  },
  {
   "cell_type": "code",
   "execution_count": null,
   "metadata": {
    "collapsed": false
   },
   "outputs": [],
   "source": [
    "omsi"
   ]
  },
  {
   "cell_type": "code",
   "execution_count": null,
   "metadata": {
    "collapsed": true
   },
   "outputs": [],
   "source": []
  }
 ],
 "metadata": {
  "anaconda-cloud": {},
  "kernelspec": {
   "display_name": "MetAtlas 2.7",
   "language": "python",
   "name": "metatlas"
  },
  "language_info": {
   "codemirror_mode": {
    "name": "ipython",
    "version": 2
   },
   "file_extension": ".py",
   "mimetype": "text/x-python",
   "name": "python",
   "nbconvert_exporter": "python",
   "pygments_lexer": "ipython2",
   "version": "2.7.13"
  }
 },
 "nbformat": 4,
 "nbformat_minor": 0
}
