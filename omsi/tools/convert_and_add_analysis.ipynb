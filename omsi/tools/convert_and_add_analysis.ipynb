{
 "cells": [
  {
   "cell_type": "markdown",
   "metadata": {},
   "source": [
    "# Import Raw File to OpenMSI"
   ]
  },
  {
   "cell_type": "markdown",
   "metadata": {},
   "source": [
    "## Basic notebook code"
   ]
  },
  {
   "cell_type": "code",
   "execution_count": 1,
   "metadata": {
    "collapsed": false
   },
   "outputs": [
    {
     "name": "stdout",
     "output_type": "stream",
     "text": [
      "MPI not available. Running in serial.\n"
     ]
    }
   ],
   "source": [
    "import sys\n",
    "import os \n",
    "import ipywidgets as widgets\n",
    "from IPython.display import display\n",
    "import getpass\n",
    "\n",
    "# Import main BASTet convert tool \n",
    "# sys.path.insert(0,\"/project/projectdirs/openmsi/omsi_processing_status/bastet\")\n",
    "sys.path.insert(0,'/global/u2/b/bpb/repos/BASTet/')\n",
    "# sys.path.insert(1,'/global/project/projectdirs/metatlas/anaconda/lib/python2.7/site-packages' )\n",
    "\n",
    "from omsi.tools.convertToOMSI import main as convert_omsi\n",
    "import omsi as omsi\n",
    "# Jupyter sets up logging so that log message are not displayed in the notebook, so we need to \n",
    "# reload the logging module in order to be able to have log messages appear in the notebook\n",
    "import logging\n",
    "reload(logging)\n",
    "from omsi.shared.log import log_helper\n",
    "log_helper.setup_logging()\n",
    "log_helper.set_log_level('DEBUG')"
   ]
  },
  {
   "cell_type": "code",
   "execution_count": null,
   "metadata": {
    "collapsed": false
   },
   "outputs": [],
   "source": [
    "omsi = reload(omsi)"
   ]
  },
  {
   "cell_type": "code",
   "execution_count": 2,
   "metadata": {
    "collapsed": false
   },
   "outputs": [],
   "source": [
    "omsi_base = omsi.dataformat.file_reader_base"
   ]
  },
  {
   "cell_type": "code",
   "execution_count": 3,
   "metadata": {
    "collapsed": false
   },
   "outputs": [
    {
     "data": {
      "text/plain": [
       "{'bruckerflex_file': omsi.dataformat.bruckerflex_file.bruckerflex_file,\n",
       " 'img_file': omsi.dataformat.img_file.img_file,\n",
       " 'imzml_file': omsi.dataformat.imzml_file.imzml_file,\n",
       " 'mzml_file': omsi.dataformat.mzml_file.mzml_file,\n",
       " 'xmassmzml_file': omsi.dataformat.xmassmzml_file.xmassmzml_file}"
      ]
     },
     "execution_count": 3,
     "metadata": {},
     "output_type": "execute_result"
    }
   ],
   "source": [
    "omsi_base.file_reader_base.available_formats()"
   ]
  },
  {
   "cell_type": "code",
   "execution_count": null,
   "metadata": {
    "collapsed": false
   },
   "outputs": [],
   "source": [
    "# omsi_base.file_reader_base_multidata.available_formats()"
   ]
  },
  {
   "cell_type": "markdown",
   "metadata": {},
   "source": [
    "### Specify folder to operate from"
   ]
  },
  {
   "cell_type": "code",
   "execution_count": 4,
   "metadata": {
    "collapsed": true
   },
   "outputs": [],
   "source": [
    "# username = getpass.getuser()\n",
    "username = 'ananth1'\n",
    "omsi_original_data = os.path.join(\"/project/projectdirs/openmsi/original_data\", username)"
   ]
  },
  {
   "cell_type": "markdown",
   "metadata": {},
   "source": [
    "### Specify folder to write to"
   ]
  },
  {
   "cell_type": "code",
   "execution_count": 5,
   "metadata": {
    "collapsed": true
   },
   "outputs": [],
   "source": [
    "username = getpass.getuser()\n",
    "omsi_private_data = os.path.join(\"/project/projectdirs/openmsi/omsi_data_private\", username)"
   ]
  },
  {
   "cell_type": "markdown",
   "metadata": {},
   "source": [
    "### Select file to convert"
   ]
  },
  {
   "cell_type": "code",
   "execution_count": 6,
   "metadata": {
    "collapsed": false
   },
   "outputs": [
    {
     "data": {
      "text/plain": [
       "['2017-08-31-Test']"
      ]
     },
     "execution_count": 6,
     "metadata": {},
     "output_type": "execute_result"
    }
   ],
   "source": [
    "%system ls -t $omsi_original_data | head -10"
   ]
  },
  {
   "cell_type": "code",
   "execution_count": 7,
   "metadata": {
    "collapsed": true
   },
   "outputs": [],
   "source": [
    "base_filename = '2017-08-31-Test'\n",
    "in_filename = (os.path.join(omsi_original_data, base_filename))\n",
    "out_filename = (os.path.join(omsi_private_data, base_filename) + '.h5')"
   ]
  },
  {
   "cell_type": "code",
   "execution_count": 8,
   "metadata": {
    "collapsed": false
   },
   "outputs": [],
   "source": [
    "settings = ['convertToOMSI.py', \n",
    "            '--no-xdmf',\n",
    "            '--user', username,\n",
    "            '--regions', 'merge',\n",
    "            '--db-server', 'https://openmsi.nersc.gov/openmsi/',\n",
    "            '--compression',\n",
    "            '--thumbnail',\n",
    "            '--auto-chunking',\n",
    "            '--error-handling', 'terminate-and-cleanup',\n",
    "            '--add-to-db',\n",
    "            '--no-fpl',\n",
    "            '--no-fpg',\n",
    "            '--no-ticnorm',\n",
    "            '--no-nmf',\n",
    "            '--format','imzml_file',\n",
    "            in_filename,\n",
    "            out_filename\n",
    "           ]\n"
   ]
  },
  {
   "cell_type": "code",
   "execution_count": 9,
   "metadata": {
    "collapsed": false
   },
   "outputs": [
    {
     "name": "stdout",
     "output_type": "stream",
     "text": [
      "False\n",
      "/project/projectdirs/openmsi/omsi_data_private/bpb/2017-08-31-Test.h5\n"
     ]
    }
   ],
   "source": [
    "print os.path.isfile(out_filename)\n",
    "print out_filename"
   ]
  },
  {
   "cell_type": "code",
   "execution_count": null,
   "metadata": {
    "collapsed": false
   },
   "outputs": [],
   "source": [
    "# %system rm $out_filename"
   ]
  },
  {
   "cell_type": "code",
   "execution_count": 10,
   "metadata": {
    "collapsed": false
   },
   "outputs": [
    {
     "data": {
      "text/plain": [
       "['total 25M',\n",
       " '-rwxr-xr-x 1 73792 OpenMSI 7.6M Aug 31 14:04 2_1_Insitu_fracture_wt_atg72_atg94_DAN_neg.ibd',\n",
       " '-rwxr-xr-x 1 73792 OpenMSI  17M Aug 31 14:04 2_1_Insitu_fracture_wt_atg72_atg94_DAN_neg.imzML']"
      ]
     },
     "execution_count": 10,
     "metadata": {},
     "output_type": "execute_result"
    }
   ],
   "source": [
    "%system ls -ltrh $in_filename"
   ]
  },
  {
   "cell_type": "code",
   "execution_count": null,
   "metadata": {
    "collapsed": false
   },
   "outputs": [],
   "source": [
    "# %system ls -ltrh $omsi_original_data"
   ]
  },
  {
   "cell_type": "code",
   "execution_count": null,
   "metadata": {
    "collapsed": false,
    "scrolled": false
   },
   "outputs": [
    {
     "name": "stderr",
     "output_type": "stream",
     "text": [
      "2017-08-31 14:10:06,765 - omsi.tools.convertToOMSI - INFO - Disable xdmf\n",
      "2017-08-31 14:10:06,767 - omsi.tools.convertToOMSI - INFO - Set user to: bpb\n",
      "2017-08-31 14:10:06,768 - omsi.tools.convertToOMSI - INFO - Set db server to: https://openmsi.nersc.gov/openmsi/\n",
      "2017-08-31 14:10:06,769 - omsi.tools.convertToOMSI - INFO - Enable compression\n",
      "2017-08-31 14:10:06,770 - omsi.tools.convertToOMSI - INFO - Enable thumbnail\n",
      "2017-08-31 14:10:06,771 - omsi.tools.convertToOMSI - INFO - Disable find peaks local\n",
      "2017-08-31 14:10:06,773 - omsi.tools.convertToOMSI - INFO - Disable find peaks global\n",
      "2017-08-31 14:10:06,774 - omsi.tools.convertToOMSI - INFO - Disable tic normalization\n",
      "2017-08-31 14:10:06,775 - omsi.tools.convertToOMSI - INFO - Disable NMF\n",
      "2017-08-31 14:10:06,776 - omsi.tools.convertToOMSI - INFO - Execute global peak finding (fpg): False\n",
      "2017-08-31 14:10:06,777 - omsi.tools.convertToOMSI - INFO - Execute local peak finding (fpl): False\n",
      "2017-08-31 14:10:06,778 - omsi.tools.convertToOMSI - INFO - Execute nmf: False\n",
      "2017-08-31 14:10:06,779 - omsi.tools.convertToOMSI - INFO - Number of MSI files: 1\n",
      "2017-08-31 14:10:06,780 - omsi.tools.convertToOMSI - INFO - Output OMSI file: /project/projectdirs/openmsi/omsi_data_private/bpb/2017-08-31-Test.h5\n",
      "2017-08-31 14:10:06,781 - omsi.tools.convertToOMSI - INFO - Number of conversion: 1\n",
      "2017-08-31 14:10:07,601 - omsi.tools.convertToOMSI - INFO - Converting: /project/projectdirs/openmsi/original_data/ananth1/2017-08-31-Test\n",
      "2017-08-31 14:10:07,602 - omsi.tools.convertToOMSI - INFO - HDF5 compression: gzip, 4\n",
      "2017-08-31 14:10:07,603 - omsi.tools.convertToOMSI - INFO - Input file format: imzml_file\n",
      "2017-08-31 14:10:09,644 - omsi.dataformat.imzml_file - INFO - Reinterpolated m/z axis for processed imzML file\n",
      "2017-08-31 14:10:09,649 - omsi.dataformat.imzml_file - WARNING - Extraction of additional imzML metadata failed\n",
      "2017-08-31 14:10:09,650 - omsi.dataformat.imzml_file - INFO - Read 32376 scans from imzML file.\n",
      "2017-08-31 14:10:09,652 - omsi.dataformat.imzml_file - INFO - IMZML file type: processed\n",
      "2017-08-31 14:10:09,652 - omsi.dataformat.imzml_file - INFO - IMZML data type: <f8\n",
      "2017-08-31 14:10:09,653 - omsi.tools.convertToOMSI - INFO - In data shape: (142, 76, 138624)\n",
      "2017-08-31 14:10:09,655 - omsi.tools.convertToOMSI - INFO - Converting data using the following chunking options:\n",
      "2017-08-31 14:10:09,656 - omsi.tools.convertToOMSI - INFO -      - Spectrum chunking: (1, 1, 8664)\n",
      "2017-08-31 14:10:09,656 - omsi.tools.convertToOMSI - INFO -      - Image chunking:    (142, 76, 1)\n"
     ]
    },
    {
     "name": "stdout",
     "output_type": "stream",
     "text": [
      "Spectrum selection chunking: (1, 1, 8664)\n",
      "     - Ideal for selection of full spectra.\n",
      "     - Overhead: 0.0 Byte (0 MB)\n",
      "Slice selection chunking: (142, 76, 1)\n",
      "     - Ideal for selection of full image slices.\n",
      "     - Overhead: 0.0 Byte (0 MB)\n",
      "Balanced chunking: (4, 4, 2048)\n",
      "     - This chunking tries to compromise between selection of slices and spectra.\n",
      "[100%]\r"
     ]
    },
    {
     "name": "stderr",
     "output_type": "stream",
     "text": [
      "2017-08-31 14:17:49,796 - omsi.tools.convertToOMSI - INFO - Generating optimized data copy: (142, 76, 1)\n"
     ]
    }
   ],
   "source": [
    "convert_omsi(argv=settings)"
   ]
  },
  {
   "cell_type": "markdown",
   "metadata": {},
   "source": [
    "# Everything below here is for creating analysis objects"
   ]
  },
  {
   "cell_type": "code",
   "execution_count": null,
   "metadata": {
    "collapsed": false,
    "scrolled": false
   },
   "outputs": [],
   "source": [
    "%system ls -lt /project/projectdirs/openmsi/omsi_data_private/bpb"
   ]
  },
  {
   "cell_type": "code",
   "execution_count": null,
   "metadata": {
    "collapsed": true
   },
   "outputs": [],
   "source": [
    "import sys\n",
    "import os \n",
    "\n",
    "# Import main BASTet convert tool \n",
    "sys.path.insert(0,\"/project/projectdirs/openmsi/omsi_processing_status/bastet\")\n",
    "\n",
    "from omsi.dataformat.omsi_file import *\n",
    "# from omsi.analysis.multivariate_stats.omsi_cx import *\n",
    "# from omsi.analysis.msi_filtering.ticNormalization import *\n",
    "from omsi.analysis.findpeaks.omsi_findpeaks_global import *"
   ]
  },
  {
   "cell_type": "code",
   "execution_count": null,
   "metadata": {
    "collapsed": false
   },
   "outputs": [],
   "source": [
    "out_filename = '/project/projectdirs/openmsi/omsi_data_private/bpb/20170227MdR_5800_Maldi_sec_met_pathway_screening.h5'\n",
    "\n",
    "f = omsi_file(out_filename , 'a' )\n",
    "e = f.get_experiment(0) #All data is organized as experiments and this just gets the first one\n",
    "d= e.get_msidata(0) #This gets the omsi_file_msidata object for the first raw dataset "
   ]
  },
  {
   "cell_type": "code",
   "execution_count": null,
   "metadata": {
    "collapsed": false
   },
   "outputs": [],
   "source": [
    "\n",
    "\n",
    "\n",
    "out_filename = '/project/projectdirs/openmsi/omsi_data_private/bpb/20170227MdR_5800_Maldi_sec_met_pathway_screening.h5'\n",
    "\n",
    "f = omsi_file(out_filename , 'a' )\n",
    "e = f.get_experiment(0) #All data is organized as experiments and this just gets the first one\n",
    "d= e.get_msidata(0) #This gets the omsi_file_msidata object for the first raw dataset \n",
    "d.shape\n",
    "\n",
    "peakCube = omsi_findpeaks_global(name_key='Global peak finding on raw data')\n",
    "# myIons = np.asarray([844.304, 868.288, 852.303, 806.331, 828.312, 804.314])\n",
    "peakCube.execute( msidata=d, mzdata=d.mz, integration_width=0.1, peakheight=20, smoothwidth=3, slwindow=100)\n",
    "e.create_analysis(peakCube)\n",
    "f.close_file()"
   ]
  },
  {
   "cell_type": "code",
   "execution_count": null,
   "metadata": {
    "collapsed": true
   },
   "outputs": [],
   "source": [
    "from omsi.analysis.multivariate_stats.omsi_nmf import *"
   ]
  },
  {
   "cell_type": "code",
   "execution_count": null,
   "metadata": {
    "collapsed": false
   },
   "outputs": [],
   "source": [
    "# nmf_data.get_help_string()\n"
   ]
  },
  {
   "cell_type": "code",
   "execution_count": null,
   "metadata": {
    "collapsed": true
   },
   "outputs": [],
   "source": [
    "e.create_analysis(nmf_data)\n",
    "f.close_file()"
   ]
  },
  {
   "cell_type": "code",
   "execution_count": null,
   "metadata": {
    "collapsed": false
   },
   "outputs": [],
   "source": [
    "f = omsi_file(out_filename , 'a' )\n",
    "e = f.get_experiment(0) #All data is organized as experiments and this just gets the first one\n",
    "peak_cube = e.get_analysis(0)\n",
    "nmf_data = omsi_nmf(name_key='NMF')\n",
    "nmf_data.execute(msidata = peak_cube['peak_cube'],numComponents=20)\n",
    "e.create_analysis(nmf_data)\n",
    "f.close_file()"
   ]
  },
  {
   "cell_type": "code",
   "execution_count": null,
   "metadata": {
    "collapsed": true
   },
   "outputs": [],
   "source": [
    "e.create_analysis(nmf_data)\n",
    "f.close_file()"
   ]
  }
 ],
 "metadata": {
  "anaconda-cloud": {},
  "kernelspec": {
   "display_name": "MetAtlas 2.7",
   "language": "python",
   "name": "metatlas"
  },
  "language_info": {
   "codemirror_mode": {
    "name": "ipython",
    "version": 2
   },
   "file_extension": ".py",
   "mimetype": "text/x-python",
   "name": "python",
   "nbconvert_exporter": "python",
   "pygments_lexer": "ipython2",
   "version": "2.7.13"
  }
 },
 "nbformat": 4,
 "nbformat_minor": 0
}
