{
 "cells": [
  {
   "cell_type": "markdown",
   "metadata": {},
   "source": [
    "# Import Raw File to OpenMSI"
   ]
  },
  {
   "cell_type": "markdown",
   "metadata": {},
   "source": [
    "## Basic notebook code"
   ]
  },
  {
   "cell_type": "code",
   "execution_count": null,
   "metadata": {
    "collapsed": false
   },
   "outputs": [],
   "source": [
    "import sys\n",
    "import os \n",
    "import ipywidgets as widgets\n",
    "from IPython.display import display\n",
    "import getpass\n",
    "\n",
    "# Import main BASTet convert tool \n",
    "sys.path.insert(0,\"/project/projectdirs/openmsi/omsi_processing_status/bastet\")\n",
    "from omsi.tools.convertToOMSI import main as convert_omsi\n",
    "\n",
    "# Jupyter sets up logging so that log message are not displayed in the notebook, so we need to \n",
    "# reload the logging module in order to be able to have log messages appear in the notebook\n",
    "import logging\n",
    "reload(logging)\n",
    "from omsi.shared.log import log_helper\n",
    "log_helper.setup_logging()\n",
    "log_helper.set_log_level('DEBUG')"
   ]
  },
  {
   "cell_type": "markdown",
   "metadata": {},
   "source": [
    "### Specify folder to operate from"
   ]
  },
  {
   "cell_type": "code",
   "execution_count": null,
   "metadata": {
    "collapsed": true
   },
   "outputs": [],
   "source": [
    "# username = getpass.getuser()\n",
    "username = 'jiangao'\n",
    "omsi_original_data = os.path.join(\"/project/projectdirs/openmsi/original_data\", username)"
   ]
  },
  {
   "cell_type": "markdown",
   "metadata": {},
   "source": [
    "### Specify folder to write to"
   ]
  },
  {
   "cell_type": "code",
   "execution_count": null,
   "metadata": {
    "collapsed": true
   },
   "outputs": [],
   "source": [
    "username = getpass.getuser()\n",
    "omsi_private_data = os.path.join(\"/project/projectdirs/openmsi/omsi_data_private\", username)"
   ]
  },
  {
   "cell_type": "markdown",
   "metadata": {},
   "source": [
    "### Select file to convert"
   ]
  },
  {
   "cell_type": "code",
   "execution_count": null,
   "metadata": {
    "collapsed": false
   },
   "outputs": [],
   "source": [
    "%system ls -t $omsi_original_data | head -10"
   ]
  },
  {
   "cell_type": "code",
   "execution_count": null,
   "metadata": {
    "collapsed": true
   },
   "outputs": [],
   "source": [
    "base_filename = '03072017_JG_RootImaging_Brachy_DirectStamp'\n",
    "in_filename = (os.path.join(omsi_original_data, base_filename))\n",
    "out_filename = (os.path.join(omsi_private_data, base_filename) + '.h5')"
   ]
  },
  {
   "cell_type": "code",
   "execution_count": null,
   "metadata": {
    "collapsed": false
   },
   "outputs": [],
   "source": [
    "settings = ['convertToOMSI.py', \n",
    "            '--no-xdmf',\n",
    "            '--user', username,\n",
    "            '--regions', 'merge',\n",
    "            '--db-server', 'https://openmsi.nersc.gov/openmsi/',\n",
    "            '--compression',\n",
    "            '--thumbnail',\n",
    "            '--auto-chunking',\n",
    "            '--error-handling', 'terminate-and-cleanup',\n",
    "            '--add-to-db',\n",
    "            '--no-fpl',\n",
    "            '--no-fpg',\n",
    "            '--no-ticnorm',\n",
    "            '--no-nmf',\n",
    "            in_filename,\n",
    "            out_filename\n",
    "           ]\n"
   ]
  },
  {
   "cell_type": "code",
   "execution_count": null,
   "metadata": {
    "collapsed": false
   },
   "outputs": [],
   "source": [
    "print os.path.isfile(out_filename)\n",
    "print out_filename"
   ]
  },
  {
   "cell_type": "code",
   "execution_count": null,
   "metadata": {
    "collapsed": false
   },
   "outputs": [],
   "source": [
    "convert_omsi(argv=settings)"
   ]
  },
  {
   "cell_type": "code",
   "execution_count": null,
   "metadata": {
    "collapsed": true
   },
   "outputs": [],
   "source": [
    "import sys\n",
    "import os \n",
    "\n",
    "# Import main BASTet convert tool \n",
    "sys.path.insert(0,\"/project/projectdirs/openmsi/omsi_processing_status/bastet\")\n",
    "\n",
    "from omsi.dataformat.omsi_file import *\n",
    "# from omsi.analysis.multivariate_stats.omsi_cx import *\n",
    "# from omsi.analysis.msi_filtering.ticNormalization import *\n",
    "from omsi.analysis.findpeaks.omsi_findpeaks_global import *"
   ]
  },
  {
   "cell_type": "code",
   "execution_count": null,
   "metadata": {
    "collapsed": false
   },
   "outputs": [],
   "source": [
    "out_filename = '/project/projectdirs/openmsi/omsi_data_private/bpb/20170227MdR_5800_Maldi_sec_met_pathway_screening.h5'\n",
    "\n",
    "f = omsi_file(out_filename , 'a' )\n",
    "e = f.get_experiment(0) #All data is organized as experiments and this just gets the first one\n",
    "d= e.get_msidata(0) #This gets the omsi_file_msidata object for the first raw dataset "
   ]
  },
  {
   "cell_type": "code",
   "execution_count": null,
   "metadata": {
    "collapsed": false
   },
   "outputs": [],
   "source": [
    "\n",
    "\n",
    "\n",
    "out_filename = '/project/projectdirs/openmsi/omsi_data_private/bpb/20170227MdR_5800_Maldi_sec_met_pathway_screening.h5'\n",
    "\n",
    "f = omsi_file(out_filename , 'a' )\n",
    "e = f.get_experiment(0) #All data is organized as experiments and this just gets the first one\n",
    "d= e.get_msidata(0) #This gets the omsi_file_msidata object for the first raw dataset \n",
    "d.shape\n",
    "\n",
    "peakCube = omsi_findpeaks_global(name_key='Global peak finding on raw data')\n",
    "# myIons = np.asarray([844.304, 868.288, 852.303, 806.331, 828.312, 804.314])\n",
    "peakCube.execute( msidata=d, mzdata=d.mz, integration_width=0.1, peakheight=20, smoothwidth=3, slwindow=100)\n",
    "e.create_analysis(peakCube)\n",
    "f.close_file()"
   ]
  },
  {
   "cell_type": "code",
   "execution_count": null,
   "metadata": {
    "collapsed": true
   },
   "outputs": [],
   "source": [
    "from omsi.analysis.multivariate_stats.omsi_nmf import *"
   ]
  },
  {
   "cell_type": "code",
   "execution_count": null,
   "metadata": {
    "collapsed": false
   },
   "outputs": [],
   "source": [
    "# nmf_data.get_help_string()\n"
   ]
  },
  {
   "cell_type": "code",
   "execution_count": null,
   "metadata": {
    "collapsed": true
   },
   "outputs": [],
   "source": [
    "e.create_analysis(nmf_data)\n",
    "f.close_file()"
   ]
  },
  {
   "cell_type": "code",
   "execution_count": null,
   "metadata": {
    "collapsed": false
   },
   "outputs": [],
   "source": [
    "f = omsi_file(out_filename , 'a' )\n",
    "e = f.get_experiment(0) #All data is organized as experiments and this just gets the first one\n",
    "peak_cube = e.get_analysis(0)\n",
    "nmf_data = omsi_nmf(name_key='NMF')\n",
    "nmf_data.execute(msidata = peak_cube['peak_cube'],numComponents=20)\n",
    "e.create_analysis(nmf_data)\n",
    "f.close_file()"
   ]
  },
  {
   "cell_type": "code",
   "execution_count": null,
   "metadata": {
    "collapsed": true
   },
   "outputs": [],
   "source": [
    "e.create_analysis(nmf_data)\n",
    "f.close_file()"
   ]
  }
 ],
 "metadata": {
  "anaconda-cloud": {},
  "kernelspec": {
   "display_name": "MetAtlas 2.7",
   "language": "python",
   "name": "metatlas"
  },
  "language_info": {
   "codemirror_mode": {
    "name": "ipython",
    "version": 2
   },
   "file_extension": ".py",
   "mimetype": "text/x-python",
   "name": "python",
   "nbconvert_exporter": "python",
   "pygments_lexer": "ipython2",
   "version": "2.7.13"
  }
 },
 "nbformat": 4,
 "nbformat_minor": 0
}
