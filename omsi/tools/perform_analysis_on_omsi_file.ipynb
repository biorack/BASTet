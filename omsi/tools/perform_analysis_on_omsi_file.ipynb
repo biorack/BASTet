{
 "cells": [
  {
   "cell_type": "markdown",
   "metadata": {},
   "source": [
    "# Import Raw File to OpenMSI"
   ]
  },
  {
   "cell_type": "markdown",
   "metadata": {},
   "source": [
    "## Basic notebook code"
   ]
  },
  {
   "cell_type": "code",
   "execution_count": null,
   "metadata": {},
   "outputs": [],
   "source": [
    "import sys\n",
    "import os \n",
    "import ipywidgets as widgets\n",
    "from IPython.display import display\n",
    "import getpass\n",
    "\n",
    "# Import main BASTet convert tool \n",
    "# sys.path.insert(0,\"/project/projectdirs/openmsi/omsi_processing_status/bastet\")\n",
    "sys.path.insert(0,'/global/u2/b/bpb/repos/BASTet/')\n",
    "# sys.path.insert(1,'/global/project/projectdirs/metatlas/anaconda/lib/python2.7/site-packages' )\n",
    "\n",
    "from omsi.tools.convertToOMSI import main as convert_omsi\n",
    "import omsi as omsi\n",
    "\n",
    "from omsi.dataformat.omsi_file import *\n",
    "# from omsi.analysis.multivariate_stats.omsi_cx import *\n",
    "# from omsi.analysis.msi_filtering.ticNormalization import *\n",
    "from omsi.analysis.findpeaks.omsi_findpeaks_global import *\n",
    "from omsi.analysis.multivariate_stats.omsi_nmf import *\n",
    "from omsi.analysis.multivariate_stats.omsi_kmeans import *\n",
    "\n",
    "\n",
    "# try:\n",
    "#     from omsi_server.omsi_access import views_helper\n",
    "# except:\n",
    "#     from omsi.omsi_access import views_helper\n",
    "\n",
    "# Jupyter sets up logging so that log message are not displayed in the notebook, so we need to \n",
    "# reload the logging module in order to be able to have log messages appear in the notebook\n",
    "import logging\n",
    "reload(logging)\n",
    "from omsi.shared.log import log_helper\n",
    "log_helper.setup_logging()\n",
    "log_helper.set_log_level('DEBUG')"
   ]
  },
  {
   "cell_type": "code",
   "execution_count": null,
   "metadata": {},
   "outputs": [],
   "source": [
    "omsi_base = omsi.dataformat.file_reader_base"
   ]
  },
  {
   "cell_type": "code",
   "execution_count": null,
   "metadata": {},
   "outputs": [],
   "source": [
    "omsi_base.file_reader_base.available_formats()"
   ]
  },
  {
   "cell_type": "code",
   "execution_count": null,
   "metadata": {},
   "outputs": [],
   "source": [
    "\n",
    "\n",
    "out_filename = '/global/homes/b/bpb/Downloads/Flax_Pod_12_day_old_CS.h5'\n",
    "\n",
    "f = omsi_file(out_filename , 'a' )\n",
    "e = f.get_experiment(0) #All data is organized as experiments and this just gets the first one\n",
    "d= e.get_msidata(0) #This gets the omsi_file_msidata object for the first raw dataset \n",
    "d.shape\n",
    "\n",
    "peakCube = omsi_findpeaks_global(name_key='Global peak finding on raw data')\n",
    "# myIons = np.asarray([844.304, 868.288, 852.303, 806.331, 828.312, 804.314])\n",
    "peakCube.execute( msidata=d, mzdata=d.mz, integration_width=0.1, peakheight=20, smoothwidth=3, slwindow=100)\n",
    "e.create_analysis(peakCube)\n",
    "f.close_file()"
   ]
  },
  {
   "cell_type": "code",
   "execution_count": null,
   "metadata": {},
   "outputs": [],
   "source": [
    "f = omsi_file(out_filename , 'a' )\n",
    "e = f.get_experiment(0) #All data is organized as experiments and this just gets the first one\n",
    "peak_cube = e.get_analysis(0)\n",
    "nmf_data = omsi_nmf(name_key='NMF')\n",
    "nmf_data.execute(msidata = peak_cube['peak_cube'],numComponents=20)\n",
    "e.create_analysis(nmf_data)\n",
    "f.close_file()"
   ]
  },
  {
   "cell_type": "code",
   "execution_count": null,
   "metadata": {},
   "outputs": [],
   "source": [
    "f = omsi_file(out_filename , 'a' )\n",
    "e = f.get_experiment(0) #All data is organized as experiments and this just gets the first one\n",
    "peak_cube = e.get_analysis(0)\n",
    "kmeans_data = omsi_kmeans(name_key='kmeans')\n",
    "kmeans_data.execute(msidata = peak_cube['peak_cube'],numClusters=12)\n",
    "e.create_analysis(kmeans_data)\n",
    "f.close_file()"
   ]
  },
  {
   "cell_type": "code",
   "execution_count": null,
   "metadata": {},
   "outputs": [],
   "source": []
  }
 ],
 "metadata": {
  "anaconda-cloud": {},
  "kernelspec": {
   "display_name": "mass spec cori",
   "language": "python",
   "name": "mass_spec_cori"
  },
  "language_info": {
   "codemirror_mode": {
    "name": "ipython",
    "version": 2
   },
   "file_extension": ".py",
   "mimetype": "text/x-python",
   "name": "python",
   "nbconvert_exporter": "python",
   "pygments_lexer": "ipython2",
   "version": "2.7.14"
  }
 },
 "nbformat": 4,
 "nbformat_minor": 1
}
